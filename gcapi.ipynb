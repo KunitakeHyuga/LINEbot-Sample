{
 "cells": [
  {
   "cell_type": "code",
   "execution_count": 7,
   "id": "1887f2a1-5474-4457-8a6f-b7493f5300e9",
   "metadata": {},
   "outputs": [],
   "source": [
    "import pickle\n",
    "import os.path\n",
    "\n",
    "from googleapiclient.discovery import build\n",
    "from google_auth_oauthlib.flow import InstalledAppFlow\n",
    "from google.auth.transport.requests import Request\n",
    "\n",
    "SCOPES = ['https://www.googleapis.com/auth/calendar.events']  # read/write access to Events\n",
    "\n",
    "def credential():\n",
    "   creds = None\n",
    "   # The file token.pickle stores the user's access and refresh tokens, and is\n",
    "   # created automatically when the authorization flow completes for the first\n",
    "   # time.\n",
    "   if os.path.exists('token.pickle'):\n",
    "       with open('token.pickle', 'rb') as token:\n",
    "           creds = pickle.load(token)\n",
    "   # If there are no (valid) credentials available, let the user log in.\n",
    "   if not creds or not creds.valid:\n",
    "       if creds and creds.expired and creds.refresh_token:\n",
    "           creds.refresh(Request())\n",
    "       else:\n",
    "           flow = InstalledAppFlow.from_client_secrets_file(\n",
    "               'credentials.json', SCOPES)\n",
    "           creds = flow.run_local_server(port=0)\n",
    "       # Save the credentials for the next run\n",
    "       with open('token.pickle', 'wb') as token:\n",
    "           pickle.dump(creds, token)\n",
    "   service = build('calendar', 'v3', credentials=creds)\n",
    "   return service"
   ]
  },
  {
   "cell_type": "code",
   "execution_count": 8,
   "id": "d0f7ae67-d496-4ded-9756-420ac469fe33",
   "metadata": {},
   "outputs": [],
   "source": [
    "from datetime import datetime, timedelta\n",
    "\n",
    "\n",
    "def read(date):\n",
    "   service = credential()\n",
    "\n",
    "   events_result = service.events().list(calendarId='primary', timeMin=date, timeMax=dateMax,\n",
    "                                       maxResults=10, singleEvents=True, orderBy='startTime').execute()\n",
    "   events = events_result.get('items', [])"
   ]
  },
  {
   "cell_type": "code",
   "execution_count": 9,
   "id": "cb39a830-2c5c-42d3-b415-9f372fa60322",
   "metadata": {},
   "outputs": [
    {
     "ename": "UnpicklingError",
     "evalue": "invalid load key, '{'.",
     "output_type": "error",
     "traceback": [
      "\u001b[1;31m---------------------------------------------------------------------------\u001b[0m",
      "\u001b[1;31mUnpicklingError\u001b[0m                           Traceback (most recent call last)",
      "Cell \u001b[1;32mIn[9], line 1\u001b[0m\n\u001b[1;32m----> 1\u001b[0m events \u001b[38;5;241m=\u001b[39m \u001b[43mread\u001b[49m\u001b[43m(\u001b[49m\u001b[38;5;124;43m\"\u001b[39;49m\u001b[38;5;124;43m2024-01-17\u001b[39;49m\u001b[38;5;124;43m\"\u001b[39;49m\u001b[43m)\u001b[49m\n\u001b[0;32m      2\u001b[0m \u001b[38;5;28mprint\u001b[39m(events)\n",
      "Cell \u001b[1;32mIn[8], line 5\u001b[0m, in \u001b[0;36mread\u001b[1;34m(date)\u001b[0m\n\u001b[0;32m      4\u001b[0m \u001b[38;5;28;01mdef\u001b[39;00m \u001b[38;5;21mread\u001b[39m(date):\n\u001b[1;32m----> 5\u001b[0m    service \u001b[38;5;241m=\u001b[39m \u001b[43mcredential\u001b[49m\u001b[43m(\u001b[49m\u001b[43m)\u001b[49m\n\u001b[0;32m      7\u001b[0m    events_result \u001b[38;5;241m=\u001b[39m service\u001b[38;5;241m.\u001b[39mevents()\u001b[38;5;241m.\u001b[39mlist(calendarId\u001b[38;5;241m=\u001b[39m\u001b[38;5;124m'\u001b[39m\u001b[38;5;124mprimary\u001b[39m\u001b[38;5;124m'\u001b[39m, timeMin\u001b[38;5;241m=\u001b[39mdate, timeMax\u001b[38;5;241m=\u001b[39mdateMax,\n\u001b[0;32m      8\u001b[0m                                        maxResults\u001b[38;5;241m=\u001b[39m\u001b[38;5;241m10\u001b[39m, singleEvents\u001b[38;5;241m=\u001b[39m\u001b[38;5;28;01mTrue\u001b[39;00m, orderBy\u001b[38;5;241m=\u001b[39m\u001b[38;5;124m'\u001b[39m\u001b[38;5;124mstartTime\u001b[39m\u001b[38;5;124m'\u001b[39m)\u001b[38;5;241m.\u001b[39mexecute()\n\u001b[0;32m      9\u001b[0m    events \u001b[38;5;241m=\u001b[39m events_result\u001b[38;5;241m.\u001b[39mget(\u001b[38;5;124m'\u001b[39m\u001b[38;5;124mitems\u001b[39m\u001b[38;5;124m'\u001b[39m, [])\n",
      "Cell \u001b[1;32mIn[7], line 17\u001b[0m, in \u001b[0;36mcredential\u001b[1;34m()\u001b[0m\n\u001b[0;32m     15\u001b[0m \u001b[38;5;28;01mif\u001b[39;00m os\u001b[38;5;241m.\u001b[39mpath\u001b[38;5;241m.\u001b[39mexists(\u001b[38;5;124m'\u001b[39m\u001b[38;5;124mtoken.pickle\u001b[39m\u001b[38;5;124m'\u001b[39m):\n\u001b[0;32m     16\u001b[0m     \u001b[38;5;28;01mwith\u001b[39;00m \u001b[38;5;28mopen\u001b[39m(\u001b[38;5;124m'\u001b[39m\u001b[38;5;124mtoken.pickle\u001b[39m\u001b[38;5;124m'\u001b[39m, \u001b[38;5;124m'\u001b[39m\u001b[38;5;124mrb\u001b[39m\u001b[38;5;124m'\u001b[39m) \u001b[38;5;28;01mas\u001b[39;00m token:\n\u001b[1;32m---> 17\u001b[0m         creds \u001b[38;5;241m=\u001b[39m \u001b[43mpickle\u001b[49m\u001b[38;5;241;43m.\u001b[39;49m\u001b[43mload\u001b[49m\u001b[43m(\u001b[49m\u001b[43mtoken\u001b[49m\u001b[43m)\u001b[49m\n\u001b[0;32m     18\u001b[0m \u001b[38;5;66;03m# If there are no (valid) credentials available, let the user log in.\u001b[39;00m\n\u001b[0;32m     19\u001b[0m \u001b[38;5;28;01mif\u001b[39;00m \u001b[38;5;129;01mnot\u001b[39;00m creds \u001b[38;5;129;01mor\u001b[39;00m \u001b[38;5;129;01mnot\u001b[39;00m creds\u001b[38;5;241m.\u001b[39mvalid:\n",
      "\u001b[1;31mUnpicklingError\u001b[0m: invalid load key, '{'."
     ]
    }
   ],
   "source": [
    "events = read(\"2024-01-17\")\n",
    "print(events)"
   ]
  },
  {
   "cell_type": "code",
   "execution_count": null,
   "id": "0947fd8c-bf0f-40e5-8469-ca86ea3efc08",
   "metadata": {},
   "outputs": [],
   "source": []
  }
 ],
 "metadata": {
  "kernelspec": {
   "display_name": "Python 3 (ipykernel)",
   "language": "python",
   "name": "python3"
  },
  "language_info": {
   "codemirror_mode": {
    "name": "ipython",
    "version": 3
   },
   "file_extension": ".py",
   "mimetype": "text/x-python",
   "name": "python",
   "nbconvert_exporter": "python",
   "pygments_lexer": "ipython3",
   "version": "3.8.18"
  }
 },
 "nbformat": 4,
 "nbformat_minor": 5
}
