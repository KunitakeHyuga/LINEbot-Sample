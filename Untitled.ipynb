{
 "cells": [
  {
   "cell_type": "code",
   "execution_count": 7,
   "id": "ca65ca55-6bb1-4894-89e4-648ebcb6003b",
   "metadata": {
    "tags": []
   },
   "outputs": [
    {
     "name": "stdout",
     "output_type": "stream",
     "text": [
      "Requirement already satisfied: line-bot-sdk in c:\\users\\hyuga\\anaconda3\\lib\\site-packages (3.7.0)\n",
      "Requirement already satisfied: requests==2.31.0 in c:\\users\\hyuga\\anaconda3\\lib\\site-packages (from line-bot-sdk) (2.31.0)\n",
      "Collecting urllib3<3,>=2.0.5 (from line-bot-sdk)\n",
      "  Downloading urllib3-2.1.0-py3-none-any.whl.metadata (6.4 kB)\n",
      "Collecting aiohttp==3.9.1 (from line-bot-sdk)\n",
      "  Downloading aiohttp-3.9.1-cp38-cp38-win_amd64.whl.metadata (7.6 kB)\n",
      "Requirement already satisfied: future in c:\\users\\hyuga\\anaconda3\\lib\\site-packages (from line-bot-sdk) (0.18.3)\n",
      "Collecting pydantic<3,>=2.0.3 (from line-bot-sdk)\n",
      "  Downloading pydantic-2.5.3-py3-none-any.whl.metadata (65 kB)\n",
      "     ---------------------------------------- 0.0/65.6 kB ? eta -:--:--\n",
      "     ------------------ --------------------- 30.7/65.6 kB 1.3 MB/s eta 0:00:01\n",
      "     ----------------------------------- -- 61.4/65.6 kB 812.7 kB/s eta 0:00:01\n",
      "     -------------------------------------- 65.6/65.6 kB 700.7 kB/s eta 0:00:00\n",
      "Requirement already satisfied: aenum>=3.1.11 in c:\\users\\hyuga\\anaconda3\\lib\\site-packages (from line-bot-sdk) (3.1.15)\n",
      "Requirement already satisfied: python-dateutil>=2.5.3 in c:\\users\\hyuga\\anaconda3\\lib\\site-packages (from line-bot-sdk) (2.8.2)\n",
      "Requirement already satisfied: Deprecated in c:\\users\\hyuga\\anaconda3\\lib\\site-packages (from line-bot-sdk) (1.2.14)\n",
      "Requirement already satisfied: attrs>=17.3.0 in c:\\users\\hyuga\\anaconda3\\lib\\site-packages (from aiohttp==3.9.1->line-bot-sdk) (23.1.0)\n",
      "Requirement already satisfied: multidict<7.0,>=4.5 in c:\\users\\hyuga\\anaconda3\\lib\\site-packages (from aiohttp==3.9.1->line-bot-sdk) (6.0.4)\n",
      "Requirement already satisfied: yarl<2.0,>=1.0 in c:\\users\\hyuga\\anaconda3\\lib\\site-packages (from aiohttp==3.9.1->line-bot-sdk) (1.9.3)\n",
      "Requirement already satisfied: frozenlist>=1.1.1 in c:\\users\\hyuga\\anaconda3\\lib\\site-packages (from aiohttp==3.9.1->line-bot-sdk) (1.4.0)\n",
      "Requirement already satisfied: aiosignal>=1.1.2 in c:\\users\\hyuga\\anaconda3\\lib\\site-packages (from aiohttp==3.9.1->line-bot-sdk) (1.2.0)\n",
      "Requirement already satisfied: async-timeout<5.0,>=4.0 in c:\\users\\hyuga\\anaconda3\\lib\\site-packages (from aiohttp==3.9.1->line-bot-sdk) (4.0.3)\n",
      "Requirement already satisfied: charset-normalizer<4,>=2 in c:\\users\\hyuga\\anaconda3\\lib\\site-packages (from requests==2.31.0->line-bot-sdk) (2.0.4)\n",
      "Requirement already satisfied: idna<4,>=2.5 in c:\\users\\hyuga\\anaconda3\\lib\\site-packages (from requests==2.31.0->line-bot-sdk) (3.4)\n",
      "Requirement already satisfied: certifi>=2017.4.17 in c:\\users\\hyuga\\anaconda3\\lib\\site-packages (from requests==2.31.0->line-bot-sdk) (2023.11.17)\n",
      "Requirement already satisfied: annotated-types>=0.4.0 in c:\\users\\hyuga\\anaconda3\\lib\\site-packages (from pydantic<3,>=2.0.3->line-bot-sdk) (0.6.0)\n",
      "Requirement already satisfied: pydantic-core==2.14.6 in c:\\users\\hyuga\\anaconda3\\lib\\site-packages (from pydantic<3,>=2.0.3->line-bot-sdk) (2.14.6)\n",
      "Requirement already satisfied: typing-extensions>=4.6.1 in c:\\users\\hyuga\\anaconda3\\lib\\site-packages (from pydantic<3,>=2.0.3->line-bot-sdk) (4.7.1)\n",
      "Requirement already satisfied: six>=1.5 in c:\\users\\hyuga\\anaconda3\\lib\\site-packages (from python-dateutil>=2.5.3->line-bot-sdk) (1.16.0)\n",
      "Requirement already satisfied: wrapt<2,>=1.10 in c:\\users\\hyuga\\anaconda3\\lib\\site-packages (from Deprecated->line-bot-sdk) (1.14.1)\n",
      "Downloading aiohttp-3.9.1-cp38-cp38-win_amd64.whl (367 kB)\n",
      "   ---------------------------------------- 0.0/367.1 kB ? eta -:--:--\n",
      "   ------------ --------------------------- 112.6/367.1 kB 2.2 MB/s eta 0:00:01\n",
      "   ---------------------- ----------------- 204.8/367.1 kB 2.1 MB/s eta 0:00:01\n",
      "   -------------------------------- ------- 297.0/367.1 kB 2.3 MB/s eta 0:00:01\n",
      "   ---------------------------------------- 367.1/367.1 kB 2.1 MB/s eta 0:00:00\n",
      "Downloading pydantic-2.5.3-py3-none-any.whl (381 kB)\n",
      "   ---------------------------------------- 0.0/381.9 kB ? eta -:--:--\n",
      "   --------- ------------------------------ 92.2/381.9 kB 2.6 MB/s eta 0:00:01\n",
      "   --------------- ------------------------ 143.4/381.9 kB 2.8 MB/s eta 0:00:01\n",
      "   --------------- ------------------------ 143.4/381.9 kB 2.8 MB/s eta 0:00:01\n",
      "   -------------------------- ------------- 256.0/381.9 kB 1.3 MB/s eta 0:00:01\n",
      "   -------------------------------- ------- 307.2/381.9 kB 1.4 MB/s eta 0:00:01\n",
      "   ---------------------------------- ----- 327.7/381.9 kB 1.3 MB/s eta 0:00:01\n",
      "   ----------------------------------- ---- 337.9/381.9 kB 1.0 MB/s eta 0:00:01\n",
      "   ----------------------------------- -- 358.4/381.9 kB 967.1 kB/s eta 0:00:01\n",
      "   ----------------------------------- -- 358.4/381.9 kB 967.1 kB/s eta 0:00:01\n",
      "   -------------------------------------- 381.9/381.9 kB 848.6 kB/s eta 0:00:00\n",
      "Downloading urllib3-2.1.0-py3-none-any.whl (104 kB)\n",
      "   ---------------------------------------- 0.0/104.6 kB ? eta -:--:--\n",
      "   ----------- ---------------------------- 30.7/104.6 kB 1.4 MB/s eta 0:00:01\n",
      "   ---------------------- ---------------- 61.4/104.6 kB 656.4 kB/s eta 0:00:01\n",
      "   -------------------------- ------------ 71.7/104.6 kB 491.5 kB/s eta 0:00:01\n",
      "   -------------------------------------- 104.6/104.6 kB 551.7 kB/s eta 0:00:00\n",
      "Installing collected packages: urllib3, pydantic, aiohttp\n",
      "  Attempting uninstall: urllib3\n",
      "    Found existing installation: urllib3 1.26.18\n",
      "    Uninstalling urllib3-1.26.18:\n",
      "      Successfully uninstalled urllib3-1.26.18\n",
      "  Attempting uninstall: pydantic\n",
      "    Found existing installation: pydantic 1.10.12\n",
      "    Uninstalling pydantic-1.10.12:\n",
      "      Successfully uninstalled pydantic-1.10.12\n",
      "  Attempting uninstall: aiohttp\n",
      "    Found existing installation: aiohttp 3.9.0\n",
      "    Uninstalling aiohttp-3.9.0:\n",
      "      Successfully uninstalled aiohttp-3.9.0\n",
      "Successfully installed aiohttp-3.9.1 pydantic-2.5.3 urllib3-2.1.0\n"
     ]
    },
    {
     "name": "stderr",
     "output_type": "stream",
     "text": [
      "ERROR: pip's dependency resolver does not currently take into account all the packages that are installed. This behaviour is the source of the following dependency conflicts.\n",
      "anaconda-cloud-auth 0.1.4 requires pydantic<2.0, but you have pydantic 2.5.3 which is incompatible.\n",
      "botocore 1.31.64 requires urllib3<1.27,>=1.25.4; python_version < \"3.10\", but you have urllib3 2.1.0 which is incompatible.\n"
     ]
    }
   ],
   "source": [
    "!pip install line-bot-sdk"
   ]
  },
  {
   "cell_type": "code",
   "execution_count": 9,
   "id": "7224f35a-532c-4ae0-93b3-74968880439c",
   "metadata": {
    "tags": []
   },
   "outputs": [],
   "source": [
    "import json"
   ]
  },
  {
   "cell_type": "code",
   "execution_count": 10,
   "id": "18b51eb0-bcdf-4e69-a260-b4fe368f4327",
   "metadata": {
    "tags": []
   },
   "outputs": [],
   "source": [
    "file = open('info.json','r')\n",
    "info = json.load(file)"
   ]
  },
  {
   "cell_type": "code",
   "execution_count": 11,
   "id": "5d25a847-d837-47e3-98f9-48ad323765c0",
   "metadata": {
    "tags": []
   },
   "outputs": [
    {
     "data": {
      "text/plain": [
       "'DMg8NmxI9n9UM7d7k21uBYt5cg2bbhrp7diPgN8ZE5hUypMo90HWKDSvHstK7Fy+NjwK+rWY9nXDKTlsSM+ofeck4EggqxcQXlBoMojXKjot/fUM3qv7iJLEpzozMC1/3ud304szgER1ynYXrW3+ygdB04t89/1O/w1cDnyilFU='"
      ]
     },
     "execution_count": 11,
     "metadata": {},
     "output_type": "execute_result"
    }
   ],
   "source": [
    "info['CHANNEL_ACCESS_TOKEN']"
   ]
  },
  {
   "cell_type": "code",
   "execution_count": 12,
   "id": "b5fa1fac-cdc7-4d2e-812d-fa708406f9fa",
   "metadata": {
    "tags": []
   },
   "outputs": [
    {
     "ename": "ModuleNotFoundError",
     "evalue": "No module named 'importlib.readers'",
     "output_type": "error",
     "traceback": [
      "\u001b[1;31m---------------------------------------------------------------------------\u001b[0m",
      "\u001b[1;31mModuleNotFoundError\u001b[0m                       Traceback (most recent call last)",
      "Cell \u001b[1;32mIn[12], line 1\u001b[0m\n\u001b[1;32m----> 1\u001b[0m \u001b[38;5;28;01mfrom\u001b[39;00m \u001b[38;5;21;01mlinebot\u001b[39;00m \u001b[38;5;28;01mimport\u001b[39;00m LineBotApi\n\u001b[0;32m      2\u001b[0m \u001b[38;5;28;01mfrom\u001b[39;00m \u001b[38;5;21;01mlinebot\u001b[39;00m\u001b[38;5;21;01m.\u001b[39;00m\u001b[38;5;21;01mmodels\u001b[39;00m \u001b[38;5;28;01mimport\u001b[39;00m TextSendMessage\n",
      "File \u001b[1;32m~\\anaconda3\\Lib\\site-packages\\linebot\\__init__.py:21\u001b[0m\n\u001b[0;32m     15\u001b[0m \u001b[38;5;124;03m\"\"\"linebot package.\"\"\"\u001b[39;00m\n\u001b[0;32m     18\u001b[0m \u001b[38;5;28;01mfrom\u001b[39;00m \u001b[38;5;21;01m.\u001b[39;00m\u001b[38;5;21;01m__about__\u001b[39;00m \u001b[38;5;28;01mimport\u001b[39;00m (  \u001b[38;5;66;03m# noqa\u001b[39;00m\n\u001b[0;32m     19\u001b[0m     __version__\n\u001b[0;32m     20\u001b[0m )\n\u001b[1;32m---> 21\u001b[0m \u001b[38;5;28;01mfrom\u001b[39;00m \u001b[38;5;21;01m.\u001b[39;00m\u001b[38;5;21;01mapi\u001b[39;00m \u001b[38;5;28;01mimport\u001b[39;00m (  \u001b[38;5;66;03m# noqa\u001b[39;00m\n\u001b[0;32m     22\u001b[0m     LineBotApi,\n\u001b[0;32m     23\u001b[0m )\n\u001b[0;32m     24\u001b[0m \u001b[38;5;28;01mfrom\u001b[39;00m \u001b[38;5;21;01m.\u001b[39;00m\u001b[38;5;21;01masync_api\u001b[39;00m \u001b[38;5;28;01mimport\u001b[39;00m (  \u001b[38;5;66;03m# noqa\u001b[39;00m\n\u001b[0;32m     25\u001b[0m     AsyncLineBotApi,\n\u001b[0;32m     26\u001b[0m )\n\u001b[0;32m     27\u001b[0m \u001b[38;5;28;01mfrom\u001b[39;00m \u001b[38;5;21;01m.\u001b[39;00m\u001b[38;5;21;01mhttp_client\u001b[39;00m \u001b[38;5;28;01mimport\u001b[39;00m (  \u001b[38;5;66;03m# noqa\u001b[39;00m\n\u001b[0;32m     28\u001b[0m     HttpClient,\n\u001b[0;32m     29\u001b[0m     RequestsHttpClient,\n\u001b[0;32m     30\u001b[0m     HttpResponse,\n\u001b[0;32m     31\u001b[0m )\n",
      "File \u001b[1;32m~\\anaconda3\\Lib\\site-packages\\linebot\\api.py:21\u001b[0m\n\u001b[0;32m     19\u001b[0m \u001b[38;5;28;01mfrom\u001b[39;00m \u001b[38;5;21;01m.\u001b[39;00m\u001b[38;5;21;01m__about__\u001b[39;00m \u001b[38;5;28;01mimport\u001b[39;00m __version__\n\u001b[0;32m     20\u001b[0m \u001b[38;5;28;01mfrom\u001b[39;00m \u001b[38;5;21;01m.\u001b[39;00m\u001b[38;5;21;01mexceptions\u001b[39;00m \u001b[38;5;28;01mimport\u001b[39;00m LineBotApiError\n\u001b[1;32m---> 21\u001b[0m \u001b[38;5;28;01mfrom\u001b[39;00m \u001b[38;5;21;01m.\u001b[39;00m\u001b[38;5;21;01mhttp_client\u001b[39;00m \u001b[38;5;28;01mimport\u001b[39;00m HttpClient, RequestsHttpClient\n\u001b[0;32m     22\u001b[0m \u001b[38;5;28;01mfrom\u001b[39;00m \u001b[38;5;21;01m.\u001b[39;00m\u001b[38;5;21;01mmodels\u001b[39;00m \u001b[38;5;28;01mimport\u001b[39;00m (\n\u001b[0;32m     23\u001b[0m     Error, Profile, MemberIds, Content, RichMenuResponse, MessageQuotaResponse,\n\u001b[0;32m     24\u001b[0m     MessageQuotaConsumptionResponse, IssueLinkTokenResponse, IssueChannelTokenResponse,\n\u001b[1;32m   (...)\u001b[0m\n\u001b[0;32m     31\u001b[0m     CreateAudienceGroup\n\u001b[0;32m     32\u001b[0m )\n\u001b[0;32m     33\u001b[0m \u001b[38;5;28;01mfrom\u001b[39;00m \u001b[38;5;21;01m.\u001b[39;00m\u001b[38;5;21;01mmodels\u001b[39;00m\u001b[38;5;21;01m.\u001b[39;00m\u001b[38;5;21;01mresponses\u001b[39;00m \u001b[38;5;28;01mimport\u001b[39;00m (\n\u001b[0;32m     34\u001b[0m     Group, UserIds, RichMenuAliasResponse, RichMenuAliasListResponse, ChannelAccessTokens,\n\u001b[0;32m     35\u001b[0m     IssueChannelTokenResponseV2, VerifyChannelTokenResponseV2, ValidAccessTokenKeyIDsResponse,\n\u001b[1;32m   (...)\u001b[0m\n\u001b[0;32m     40\u001b[0m     ValidatePushMessageObjectsResponse, ValidateReplyMessageObjectsResponse,\n\u001b[0;32m     41\u001b[0m )\n",
      "File \u001b[1;32m~\\anaconda3\\Lib\\site-packages\\linebot\\http_client.py:20\u001b[0m\n\u001b[0;32m     15\u001b[0m \u001b[38;5;124;03m\"\"\"linebot.http_client module.\"\"\"\u001b[39;00m\n\u001b[0;32m     18\u001b[0m \u001b[38;5;28;01mfrom\u001b[39;00m \u001b[38;5;21;01mabc\u001b[39;00m \u001b[38;5;28;01mimport\u001b[39;00m ABCMeta, abstractmethod, abstractproperty\n\u001b[1;32m---> 20\u001b[0m \u001b[38;5;28;01mimport\u001b[39;00m \u001b[38;5;21;01mrequests\u001b[39;00m\n\u001b[0;32m     21\u001b[0m \u001b[38;5;28;01mfrom\u001b[39;00m \u001b[38;5;21;01mfuture\u001b[39;00m\u001b[38;5;21;01m.\u001b[39;00m\u001b[38;5;21;01mutils\u001b[39;00m \u001b[38;5;28;01mimport\u001b[39;00m with_metaclass\n\u001b[0;32m     24\u001b[0m \u001b[38;5;28;01mclass\u001b[39;00m \u001b[38;5;21;01mHttpClient\u001b[39;00m(with_metaclass(ABCMeta)):\n",
      "File \u001b[1;32m~\\anaconda3\\Lib\\site-packages\\requests\\__init__.py:147\u001b[0m\n\u001b[0;32m    144\u001b[0m \u001b[38;5;28;01mimport\u001b[39;00m \u001b[38;5;21;01mlogging\u001b[39;00m\n\u001b[0;32m    145\u001b[0m \u001b[38;5;28;01mfrom\u001b[39;00m \u001b[38;5;21;01mlogging\u001b[39;00m \u001b[38;5;28;01mimport\u001b[39;00m NullHandler\n\u001b[1;32m--> 147\u001b[0m \u001b[38;5;28;01mfrom\u001b[39;00m \u001b[38;5;21;01m.\u001b[39;00m \u001b[38;5;28;01mimport\u001b[39;00m packages, utils\n\u001b[0;32m    148\u001b[0m \u001b[38;5;28;01mfrom\u001b[39;00m \u001b[38;5;21;01m.\u001b[39;00m\u001b[38;5;21;01m__version__\u001b[39;00m \u001b[38;5;28;01mimport\u001b[39;00m (\n\u001b[0;32m    149\u001b[0m     __author__,\n\u001b[0;32m    150\u001b[0m     __author_email__,\n\u001b[1;32m   (...)\u001b[0m\n\u001b[0;32m    158\u001b[0m     __version__,\n\u001b[0;32m    159\u001b[0m )\n\u001b[0;32m    160\u001b[0m \u001b[38;5;28;01mfrom\u001b[39;00m \u001b[38;5;21;01m.\u001b[39;00m\u001b[38;5;21;01mapi\u001b[39;00m \u001b[38;5;28;01mimport\u001b[39;00m delete, get, head, options, patch, post, put, request\n",
      "File \u001b[1;32m~\\anaconda3\\Lib\\site-packages\\requests\\utils.py:63\u001b[0m\n\u001b[0;32m     59\u001b[0m \u001b[38;5;28;01mfrom\u001b[39;00m \u001b[38;5;21;01m.\u001b[39;00m\u001b[38;5;21;01mstructures\u001b[39;00m \u001b[38;5;28;01mimport\u001b[39;00m CaseInsensitiveDict\n\u001b[0;32m     61\u001b[0m NETRC_FILES \u001b[38;5;241m=\u001b[39m (\u001b[38;5;124m\"\u001b[39m\u001b[38;5;124m.netrc\u001b[39m\u001b[38;5;124m\"\u001b[39m, \u001b[38;5;124m\"\u001b[39m\u001b[38;5;124m_netrc\u001b[39m\u001b[38;5;124m\"\u001b[39m)\n\u001b[1;32m---> 63\u001b[0m DEFAULT_CA_BUNDLE_PATH \u001b[38;5;241m=\u001b[39m certs\u001b[38;5;241m.\u001b[39mwhere()\n\u001b[0;32m     65\u001b[0m DEFAULT_PORTS \u001b[38;5;241m=\u001b[39m {\u001b[38;5;124m\"\u001b[39m\u001b[38;5;124mhttp\u001b[39m\u001b[38;5;124m\"\u001b[39m: \u001b[38;5;241m80\u001b[39m, \u001b[38;5;124m\"\u001b[39m\u001b[38;5;124mhttps\u001b[39m\u001b[38;5;124m\"\u001b[39m: \u001b[38;5;241m443\u001b[39m}\n\u001b[0;32m     67\u001b[0m \u001b[38;5;66;03m# Ensure that ', ' is used to preserve previous delimiter behavior.\u001b[39;00m\n",
      "File \u001b[1;32m~\\anaconda3\\Lib\\site-packages\\certifi\\core.py:36\u001b[0m, in \u001b[0;36mwhere\u001b[1;34m()\u001b[0m\n\u001b[0;32m     24\u001b[0m \u001b[38;5;28;01mglobal\u001b[39;00m _CACERT_PATH\n\u001b[0;32m     25\u001b[0m \u001b[38;5;28;01mif\u001b[39;00m _CACERT_PATH \u001b[38;5;129;01mis\u001b[39;00m \u001b[38;5;28;01mNone\u001b[39;00m:\n\u001b[0;32m     26\u001b[0m     \u001b[38;5;66;03m# This is slightly janky, the importlib.resources API wants you to\u001b[39;00m\n\u001b[0;32m     27\u001b[0m     \u001b[38;5;66;03m# manage the cleanup of this file, so it doesn't actually return a\u001b[39;00m\n\u001b[1;32m   (...)\u001b[0m\n\u001b[0;32m     34\u001b[0m     \u001b[38;5;66;03m# it will do the cleanup whenever it gets garbage collected, so\u001b[39;00m\n\u001b[0;32m     35\u001b[0m     \u001b[38;5;66;03m# we will also store that at the global level as well.\u001b[39;00m\n\u001b[1;32m---> 36\u001b[0m     _CACERT_CTX \u001b[38;5;241m=\u001b[39m as_file(files(\u001b[38;5;124m\"\u001b[39m\u001b[38;5;124mcertifi\u001b[39m\u001b[38;5;124m\"\u001b[39m)\u001b[38;5;241m.\u001b[39mjoinpath(\u001b[38;5;124m\"\u001b[39m\u001b[38;5;124mcacert.pem\u001b[39m\u001b[38;5;124m\"\u001b[39m))\n\u001b[0;32m     37\u001b[0m     _CACERT_PATH \u001b[38;5;241m=\u001b[39m \u001b[38;5;28mstr\u001b[39m(_CACERT_CTX\u001b[38;5;241m.\u001b[39m\u001b[38;5;21m__enter__\u001b[39m())\n\u001b[0;32m     39\u001b[0m \u001b[38;5;28;01mreturn\u001b[39;00m _CACERT_PATH\n",
      "File \u001b[1;32m~\\anaconda3\\Lib\\importlib\\resources\\_common.py:22\u001b[0m, in \u001b[0;36mfiles\u001b[1;34m(package)\u001b[0m\n",
      "File \u001b[1;32m~\\anaconda3\\Lib\\importlib\\resources\\_common.py:65\u001b[0m, in \u001b[0;36mfrom_package\u001b[1;34m(package)\u001b[0m\n",
      "File \u001b[1;32m~\\anaconda3\\Lib\\importlib\\resources\\_adapters.py:29\u001b[0m, in \u001b[0;36mget_resource_reader\u001b[1;34m(self, name)\u001b[0m\n",
      "File \u001b[1;32m~\\anaconda3\\Lib\\importlib\\resources\\_adapters.py:155\u001b[0m, in \u001b[0;36m_native\u001b[1;34m(self)\u001b[0m\n",
      "File \u001b[1;32m~\\anaconda3\\Lib\\importlib\\resources\\_adapters.py:149\u001b[0m, in \u001b[0;36m_reader\u001b[1;34m(self)\u001b[0m\n",
      "\u001b[1;31mModuleNotFoundError\u001b[0m: No module named 'importlib.readers'"
     ]
    }
   ],
   "source": [
    "from linebot import LineBotApi\n",
    "from linebot.models import TextSendMessage"
   ]
  },
  {
   "cell_type": "code",
   "execution_count": 13,
   "id": "42385387-c2a7-4151-88f2-5a4c838d73c1",
   "metadata": {
    "tags": []
   },
   "outputs": [
    {
     "ename": "NameError",
     "evalue": "name 'LineBotApi' is not defined",
     "output_type": "error",
     "traceback": [
      "\u001b[1;31m---------------------------------------------------------------------------\u001b[0m",
      "\u001b[1;31mNameError\u001b[0m                                 Traceback (most recent call last)",
      "Cell \u001b[1;32mIn[13], line 2\u001b[0m\n\u001b[0;32m      1\u001b[0m CHANNEL_ACCESS_TOKEN \u001b[38;5;241m=\u001b[39m info[\u001b[38;5;124m'\u001b[39m\u001b[38;5;124mCHANNEL_ACCESS_TOKEN\u001b[39m\u001b[38;5;124m'\u001b[39m]\n\u001b[1;32m----> 2\u001b[0m line_bot_api \u001b[38;5;241m=\u001b[39m LineBotApi(CHANNEL_ACCESS_TOKEN)\n",
      "\u001b[1;31mNameError\u001b[0m: name 'LineBotApi' is not defined"
     ]
    }
   ],
   "source": [
    "CHANNEL_ACCESS_TOKEN = info['CHANNEL_ACCESS_TOKEN']\n",
    "line_bot_api = LineBotApi(CHANNEL_ACCESS_TOKEN)"
   ]
  },
  {
   "cell_type": "code",
   "execution_count": null,
   "id": "54b37aae-e5ab-42e9-938b-e82ee64ac223",
   "metadata": {},
   "outputs": [],
   "source": []
  },
  {
   "cell_type": "code",
   "execution_count": null,
   "id": "df95f5f6-7e92-4be0-8932-44be79507576",
   "metadata": {},
   "outputs": [],
   "source": []
  },
  {
   "cell_type": "code",
   "execution_count": null,
   "id": "27e93759-e844-437b-a92d-0353564a2e45",
   "metadata": {},
   "outputs": [],
   "source": []
  },
  {
   "cell_type": "code",
   "execution_count": null,
   "id": "1fbb8222-6797-42c3-b810-293141bf12ba",
   "metadata": {},
   "outputs": [],
   "source": []
  },
  {
   "cell_type": "code",
   "execution_count": null,
   "id": "89930b2a-8294-4919-8154-061633b21385",
   "metadata": {},
   "outputs": [],
   "source": []
  },
  {
   "cell_type": "code",
   "execution_count": null,
   "id": "e34e7c9f-03e5-4bc8-8fdc-dc8bd5895e0f",
   "metadata": {},
   "outputs": [],
   "source": []
  },
  {
   "cell_type": "code",
   "execution_count": null,
   "id": "d7180e3c-5522-4c9e-b4a3-559999c40bcf",
   "metadata": {},
   "outputs": [],
   "source": []
  },
  {
   "cell_type": "code",
   "execution_count": null,
   "id": "5228bc46-8f63-4326-b44a-661e101f44f7",
   "metadata": {},
   "outputs": [],
   "source": []
  },
  {
   "cell_type": "code",
   "execution_count": null,
   "id": "41ae7213-ed9c-4870-b15d-ce37471383e0",
   "metadata": {},
   "outputs": [],
   "source": []
  },
  {
   "cell_type": "code",
   "execution_count": null,
   "id": "0f6be8bf-e90c-414a-9f24-b3eac14e3762",
   "metadata": {},
   "outputs": [],
   "source": []
  },
  {
   "cell_type": "code",
   "execution_count": null,
   "id": "cf367a30-68e9-4bef-aa15-c3d58d2622c9",
   "metadata": {},
   "outputs": [],
   "source": []
  }
 ],
 "metadata": {
  "kernelspec": {
   "display_name": "Python 3 (ipykernel)",
   "language": "python",
   "name": "python3"
  },
  "language_info": {
   "codemirror_mode": {
    "name": "ipython",
    "version": 3
   },
   "file_extension": ".py",
   "mimetype": "text/x-python",
   "name": "python",
   "nbconvert_exporter": "python",
   "pygments_lexer": "ipython3",
   "version": "3.8.18"
  }
 },
 "nbformat": 4,
 "nbformat_minor": 5
}
