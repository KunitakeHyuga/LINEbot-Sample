{
 "cells": [
  {
   "cell_type": "code",
   "execution_count": 6,
   "id": "57c45c31-20da-419f-9900-12668a484c01",
   "metadata": {},
   "outputs": [],
   "source": [
    "import pickle\n",
    "import os.path\n",
    "\n",
    "from googleapiclient.discovery import build\n",
    "from google_auth_oauthlib.flow import InstalledAppFlow\n",
    "from google.auth.transport.requests import Request\n",
    "\n",
    "SCOPES = ['https://www.googleapis.com/auth/calendar.events']  # read/write access to Events\n",
    "\n",
    "def credential():\n",
    "   creds = None\n",
    "   # The file token.pickle stores the user's access and refresh tokens, and is\n",
    "   # created automatically when the authorization flow completes for the first\n",
    "   # time.\n",
    "   if os.path.exists('token.pickle'):\n",
    "       with open('token.pickle', 'rb') as token:\n",
    "           creds = pickle.load(token)\n",
    "   # If there are no (valid) credentials available, let the user log in.\n",
    "   if not creds or not creds.valid:\n",
    "       if creds and creds.expired and creds.refresh_token:\n",
    "           creds.refresh(Request())\n",
    "       else:\n",
    "           flow = InstalledAppFlow.from_client_secrets_file(\n",
    "               'credentials.json', SCOPES)\n",
    "           creds = flow.run_local_server(port=0)\n",
    "       # Save the credentials for the next run\n",
    "       with open('token.pickle', 'wb') as token:\n",
    "           pickle.dump(creds, token)\n",
    "   service = build('calendar', 'v3', credentials=creds)\n",
    "   return service"
   ]
  },
  {
   "cell_type": "code",
   "execution_count": 7,
   "id": "efe06bf7-9714-4c45-8501-bd1572bbe71f",
   "metadata": {},
   "outputs": [],
   "source": [
    "from datetime import datetime, timedelta\n",
    "\n",
    "\n",
    "def read(date):\n",
    "   service = credential()\n",
    "\n",
    "   events_result = service.events().list(calendarId='primary', timeMin=date, timeMax=dateMax,\n",
    "                                       maxResults=10, singleEvents=True, orderBy='startTime').execute()\n",
    "   events = events_result.get('items', [])"
   ]
  },
  {
   "cell_type": "code",
   "execution_count": 8,
   "id": "62e47365-6bea-4faa-a664-55e83df1c74a",
   "metadata": {},
   "outputs": [
    {
     "ename": "NameError",
     "evalue": "name 'dateMax' is not defined",
     "output_type": "error",
     "traceback": [
      "\u001b[1;31m---------------------------------------------------------------------------\u001b[0m",
      "\u001b[1;31mNameError\u001b[0m                                 Traceback (most recent call last)",
      "Cell \u001b[1;32mIn[8], line 1\u001b[0m\n\u001b[1;32m----> 1\u001b[0m events \u001b[38;5;241m=\u001b[39m \u001b[43mread\u001b[49m\u001b[43m(\u001b[49m\u001b[38;5;124;43m\"\u001b[39;49m\u001b[38;5;124;43m2024-01-17\u001b[39;49m\u001b[38;5;124;43m\"\u001b[39;49m\u001b[43m)\u001b[49m\n\u001b[0;32m      2\u001b[0m \u001b[38;5;28mprint\u001b[39m(events)\n",
      "Cell \u001b[1;32mIn[7], line 7\u001b[0m, in \u001b[0;36mread\u001b[1;34m(date)\u001b[0m\n\u001b[0;32m      4\u001b[0m \u001b[38;5;28;01mdef\u001b[39;00m \u001b[38;5;21mread\u001b[39m(date):\n\u001b[0;32m      5\u001b[0m    service \u001b[38;5;241m=\u001b[39m credential()\n\u001b[1;32m----> 7\u001b[0m    events_result \u001b[38;5;241m=\u001b[39m service\u001b[38;5;241m.\u001b[39mevents()\u001b[38;5;241m.\u001b[39mlist(calendarId\u001b[38;5;241m=\u001b[39m\u001b[38;5;124m'\u001b[39m\u001b[38;5;124mprimary\u001b[39m\u001b[38;5;124m'\u001b[39m, timeMin\u001b[38;5;241m=\u001b[39mdate, timeMax\u001b[38;5;241m=\u001b[39m\u001b[43mdateMax\u001b[49m,\n\u001b[0;32m      8\u001b[0m                                        maxResults\u001b[38;5;241m=\u001b[39m\u001b[38;5;241m10\u001b[39m, singleEvents\u001b[38;5;241m=\u001b[39m\u001b[38;5;28;01mTrue\u001b[39;00m, orderBy\u001b[38;5;241m=\u001b[39m\u001b[38;5;124m'\u001b[39m\u001b[38;5;124mstartTime\u001b[39m\u001b[38;5;124m'\u001b[39m)\u001b[38;5;241m.\u001b[39mexecute()\n\u001b[0;32m      9\u001b[0m    events \u001b[38;5;241m=\u001b[39m events_result\u001b[38;5;241m.\u001b[39mget(\u001b[38;5;124m'\u001b[39m\u001b[38;5;124mitems\u001b[39m\u001b[38;5;124m'\u001b[39m, [])\n",
      "\u001b[1;31mNameError\u001b[0m: name 'dateMax' is not defined"
     ]
    }
   ],
   "source": [
    "events = read(\"2024-01-17\")\n",
    "print(events)"
   ]
  },
  {
   "cell_type": "code",
   "execution_count": null,
   "id": "da5e6ba8-fd5f-41c8-b9b9-7f500b28e2d9",
   "metadata": {},
   "outputs": [],
   "source": []
  },
  {
   "cell_type": "code",
   "execution_count": null,
   "id": "56ff4331-a0e5-4bca-bad7-fef0058cc6fb",
   "metadata": {},
   "outputs": [],
   "source": []
  }
 ],
 "metadata": {
  "kernelspec": {
   "display_name": "Python 3 (ipykernel)",
   "language": "python",
   "name": "python3"
  },
  "language_info": {
   "codemirror_mode": {
    "name": "ipython",
    "version": 3
   },
   "file_extension": ".py",
   "mimetype": "text/x-python",
   "name": "python",
   "nbconvert_exporter": "python",
   "pygments_lexer": "ipython3",
   "version": "3.8.18"
  }
 },
 "nbformat": 4,
 "nbformat_minor": 5
}
