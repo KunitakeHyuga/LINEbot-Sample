{
 "cells": [
  {
   "cell_type": "code",
   "execution_count": 1,
   "id": "47596051-210a-439d-b618-9f5d12c3555f",
   "metadata": {},
   "outputs": [],
   "source": [
    "# -*- coding: utf-8 -*-\n",
    "from flask import Flask, request, abort\n",
    "from linebot.v3 import WebhookHandler\n",
    "from linebot.v3.exceptions import InvalidSignatureError\n",
    "from linebot.v3.messaging import (\n",
    "\tApiClient, Configuration, MessagingApi,\n",
    "\tReplyMessageRequest, PushMessageRequest,\n",
    "\tTextMessage, PostbackAction\n",
    ")\n",
    "from linebot.v3.webhooks import (\n",
    "\tFollowEvent, MessageEvent, PostbackEvent, TextMessageContent\n",
    ")\n",
    "import os\n"
   ]
  },
  {
   "cell_type": "code",
   "execution_count": 2,
   "id": "a7526356-723b-4e4d-81ee-2421e8f100d3",
   "metadata": {},
   "outputs": [],
   "source": [
    "## Flask アプリのインスタンス化\n",
    "app = Flask(__name__)\n",
    "\n",
    "CHANNEL_ACCESS_TOKEN = \"DMg8NmxI9n9UM7d7k21uBYt5cg2bbhrp7diPgN8ZE5hUypMo90HWKDSvHstK7Fy+NjwK+rWY9nXDKTlsSM+ofeck4EggqxcQXlBoMojXKjot/fUM3qv7iJLEpzozMC1/3ud304szgER1ynYXrW3+ygdB04t89/1O/w1cDnyilFU=\"\n",
    "CHANNEL_SECRET = \"U883c49cc92f1e0a1b2de45aefafd3886\"\n",
    "\n",
    "CHANNEL_ACCESS_TOKEN = \"CHANNEL_ACCESS_TOKEN\"\n",
    "CHANNEL_SECRET = \"CHANNEL_SECRET\"\n",
    "\n",
    "## LINE のアクセストークン読み込み\n",
    "configuration = Configuration(access_token=CHANNEL_ACCESS_TOKEN)\n",
    "handler = WebhookHandler(CHANNEL_SECRET)\n",
    "\n",
    "## コールバックのおまじない\n",
    "@app.route(\"/callback\", methods=['POST'])\n",
    "def callback():\n",
    "\t# get X-Line-Signature header value\n",
    "\tsignature = request.headers['X-Line-Signature']\n",
    "\n",
    "\t# get request body as text\n",
    "\tbody = request.get_data(as_text=True)\n",
    "\tapp.logger.info(\"Request body: \" + body)\n",
    "\n",
    "\t# handle webhook body\n",
    "\ttry:\n",
    "\t\thandler.handle(body, signature)\n",
    "\texcept InvalidSignatureError:\n",
    "\t\tapp.logger.info(\"Invalid signature. Please check your channel access token/channel secret.\")\n",
    "\t\tabort(400)\n",
    "\n",
    "\treturn 'OK'\n"
   ]
  },
  {
   "cell_type": "code",
   "execution_count": 3,
   "id": "e8373019-eb73-4062-adfd-9d2927b2918c",
   "metadata": {},
   "outputs": [],
   "source": [
    "## オウム返しメッセージ\n",
    "@handler.add(MessageEvent, message=TextMessageContent)\n",
    "def handle_message(event):\n",
    "\t## APIインスタンス化\n",
    "\twith ApiClient(configuration) as api_client:\n",
    "\t\tline_bot_api = MessagingApi(api_client)\n",
    "\n",
    "\t## 受信メッセージの中身を取得\n",
    "\treceived_message = event.message.text\n",
    "\n",
    "\t## APIを呼んで送信者のプロフィール取得\n",
    "\tprofile = line_bot_api.get_profile(event.source.user_id)\n",
    "\tdisplay_name = profile.display_name\n",
    "\n",
    "\t## 返信メッセージ編集\n",
    "\treply = f'{display_name}さんのメッセージ\\n{received_message}'\n",
    "\n",
    "\t## オウム返し\n",
    "\tline_bot_api.reply_message(ReplyMessageRequest(\n",
    "\t\treplyToken=event.reply_token,\n",
    "\t\tmessages=[TextMessage(text=reply)]\n",
    "\t))\n"
   ]
  },
  {
   "cell_type": "code",
   "execution_count": 4,
   "id": "067568c7-6e21-4d6d-b476-12e64ebae77c",
   "metadata": {},
   "outputs": [],
   "source": [
    "## 起動確認用ウェブサイトのトップページ\n",
    "@app.route('/', methods=['GET'])\n",
    "def toppage():\n",
    "\treturn 'Hello world!'\n"
   ]
  },
  {
   "cell_type": "code",
   "execution_count": 5,
   "id": "bd4bf756-2ebf-4984-a26f-4ab4a2c97665",
   "metadata": {},
   "outputs": [
    {
     "name": "stdout",
     "output_type": "stream",
     "text": [
      " * Serving Flask app '__main__'\n",
      " * Debug mode: on\n"
     ]
    },
    {
     "name": "stderr",
     "output_type": "stream",
     "text": [
      "WARNING: This is a development server. Do not use it in a production deployment. Use a production WSGI server instead.\n",
      " * Running on all addresses (0.0.0.0)\n",
      " * Running on http://127.0.0.1:8000\n",
      " * Running on http://133.49.221.154:8000\n",
      "Press CTRL+C to quit\n",
      " * Restarting with watchdog (windowsapi)\n"
     ]
    },
    {
     "ename": "SystemExit",
     "evalue": "1",
     "output_type": "error",
     "traceback": [
      "An exception has occurred, use %tb to see the full traceback.\n",
      "\u001b[1;31mSystemExit\u001b[0m\u001b[1;31m:\u001b[0m 1\n"
     ]
    },
    {
     "name": "stderr",
     "output_type": "stream",
     "text": [
      "C:\\Users\\hyuga\\anaconda3\\lib\\site-packages\\IPython\\core\\interactiveshell.py:3516: UserWarning: To exit: use 'exit', 'quit', or Ctrl-D.\n",
      "  warn(\"To exit: use 'exit', 'quit', or Ctrl-D.\", stacklevel=1)\n"
     ]
    }
   ],
   "source": [
    "## ボット起動コード\n",
    "if __name__ == \"__main__\":\n",
    "\t## ローカルでテストする時のために、`debug=True` にしておく\n",
    "\tapp.run(host=\"0.0.0.0\", port=8000, debug=True)\n"
   ]
  },
  {
   "cell_type": "code",
   "execution_count": null,
   "id": "fab938fd-5733-46c7-83c0-36f389f28c0a",
   "metadata": {},
   "outputs": [],
   "source": []
  }
 ],
 "metadata": {
  "kernelspec": {
   "display_name": "Python 3 (ipykernel)",
   "language": "python",
   "name": "python3"
  },
  "language_info": {
   "codemirror_mode": {
    "name": "ipython",
    "version": 3
   },
   "file_extension": ".py",
   "mimetype": "text/x-python",
   "name": "python",
   "nbconvert_exporter": "python",
   "pygments_lexer": "ipython3",
   "version": "3.8.18"
  }
 },
 "nbformat": 4,
 "nbformat_minor": 5
}
