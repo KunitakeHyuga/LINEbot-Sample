{
 "cells": [
  {
   "cell_type": "code",
   "execution_count": null,
   "id": "6d90ef2a-59ae-4943-9fd2-78301eb2fe75",
   "metadata": {},
   "outputs": [
    {
     "name": "stdout",
     "output_type": "stream",
     "text": [
      " * Serving Flask app '__main__'\n",
      " * Debug mode: off\n"
     ]
    },
    {
     "name": "stderr",
     "output_type": "stream",
     "text": [
      "WARNING: This is a development server. Do not use it in a production deployment. Use a production WSGI server instead.\n",
      " * Running on all addresses (0.0.0.0)\n",
      " * Running on http://127.0.0.1:5000\n",
      " * Running on http://192.168.3.90:5000\n",
      "Press CTRL+C to quit\n"
     ]
    }
   ],
   "source": [
    "import os\n",
    "from flask import Flask, abort, request\n",
    "from linebot.v3.webhook import (\n",
    "    WebhookHandler\n",
    ")\n",
    "from linebot.v3.exceptions import (\n",
    "    InvalidSignatureError\n",
    ")\n",
    "from linebot.v3.messaging import (\n",
    "    Configuration,\n",
    "    ApiClient,\n",
    "    MessagingApi,\n",
    "    ReplyMessageRequest,\n",
    "    TextMessage\n",
    ")\n",
    "from linebot.v3.webhooks import (\n",
    "    MessageEvent,\n",
    "    TextMessageContent\n",
    ")\n",
    "\n",
    "\n",
    "app = Flask(__name__)\n",
    "\n",
    "YOUR_CHANNEL_ACCESS_TOKEN = \"DMg8NmxI9n9UM7d7k21uBYt5cg2bbhrp7diPgN8ZE5hUypMo90HWKDSvHstK7Fy+NjwK+rWY9nXDKTlsSM+ofeck4EggqxcQXlBoMojXKjot/fUM3qv7iJLEpzozMC1/3ud304szgER1ynYXrW3+ygdB04t89/1O/w1cDnyilFU=\"\n",
    "YOUR_CHANNEL_SECRET = \"U883c49cc92f1e0a1b2de45aefafd3886\"\n",
    "\n",
    "handler = WebhookHandler('YOUR_CHANNEL_SECRET')\n",
    "configuration = Configuration(access_token='YOUR_CHANNEL_ACCESS_TOKEN')\n",
    "\n",
    "\n",
    "@app.route(\"/callback\", methods=['POST'])\n",
    "def callback():\n",
    "    # get X-Line-Signature header value\n",
    "    signature = request.headers['X-Line-Signature']\n",
    "\n",
    "    # get request body as text\n",
    "    body = request.get_data(as_text=True)\n",
    "    app.logger.info(\"Request body: \" + body)\n",
    "\n",
    "    # handle webhook body\n",
    "    try:\n",
    "        handler.handle(body, signature)\n",
    "    except InvalidSignatureError:\n",
    "        app.logger.info(\"Invalid signature. Please check your channel access token/channel secret.\")\n",
    "        abort(400)\n",
    "\n",
    "    return 'OK'\n",
    "\n",
    "@handler.add(MessageEvent, message=TextMessageContent)\n",
    "def handle_message(event):\n",
    "    with ApiClient(configuration) as api_client:\n",
    "        #相手の送信した内容で条件分岐して回答を変数に代入\n",
    "        if event.message.text == 'グー':\n",
    "            msg = 'パー'\n",
    "        elif event.message.text == 'チョキ':\n",
    "            msg = 'グー'\n",
    "        elif event.message.text == 'パー':\n",
    "            msg = 'チョキ'\n",
    "        else:\n",
    "            msg = 'ごめんね。\\nまだ他のメッセージには対応してないよ'\n",
    "\n",
    "        line_bot_api = MessagingApi(api_client)\n",
    "        line_bot_api.reply_message_with_http_info(\n",
    "            ReplyMessageRequest(\n",
    "                reply_token=event.reply_token,\n",
    "                messages=[TextMessage(text=msg)]\n",
    "            )\n",
    "        )\n",
    "\n",
    "\n",
    "if __name__ == \"__main__\":\n",
    "    port = int(os.getenv(\"PORT\", 5000))\n",
    "    app.run(host=\"0.0.0.0\", port=port, debug=False)"
   ]
  },
  {
   "cell_type": "code",
   "execution_count": null,
   "id": "2f034484-2407-462a-a3d8-c7d358a3ffff",
   "metadata": {},
   "outputs": [],
   "source": []
  }
 ],
 "metadata": {
  "kernelspec": {
   "display_name": "Python 3 (ipykernel)",
   "language": "python",
   "name": "python3"
  },
  "language_info": {
   "codemirror_mode": {
    "name": "ipython",
    "version": 3
   },
   "file_extension": ".py",
   "mimetype": "text/x-python",
   "name": "python",
   "nbconvert_exporter": "python",
   "pygments_lexer": "ipython3",
   "version": "3.8.18"
  }
 },
 "nbformat": 4,
 "nbformat_minor": 5
}
