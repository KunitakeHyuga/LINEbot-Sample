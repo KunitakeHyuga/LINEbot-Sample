{
 "cells": [
  {
   "cell_type": "code",
   "execution_count": 7,
   "id": "1887f2a1-5474-4457-8a6f-b7493f5300e9",
   "metadata": {},
   "outputs": [],
   "source": [
    "import pickle\n",
    "import os.path\n",
    "\n",
    "from googleapiclient.discovery import build\n",
    "from google_auth_oauthlib.flow import InstalledAppFlow\n",
    "from google.auth.transport.requests import Request\n",
    "\n",
    "SCOPES = ['https://www.googleapis.com/auth/calendar.events']  # read/write access to Events\n",
    "\n",
    "def credential():\n",
    "   creds = None\n",
    "   # The file token.pickle stores the user's access and refresh tokens, and is\n",
    "   # created automatically when the authorization flow completes for the first\n",
    "   # time.\n",
    "   if os.path.exists('token.pickle'):\n",
    "       with open('token.pickle', 'rb') as token:\n",
    "           creds = pickle.load(token)\n",
    "   # If there are no (valid) credentials available, let the user log in.\n",
    "   if not creds or not creds.valid:\n",
    "       if creds and creds.expired and creds.refresh_token:\n",
    "           creds.refresh(Request())\n",
    "       else:\n",
    "           flow = InstalledAppFlow.from_client_secrets_file(\n",
    "               'credentials.json', SCOPES)\n",
    "           creds = flow.run_local_server(port=0)\n",
    "       # Save the credentials for the next run\n",
    "       with open('token.pickle', 'wb') as token:\n",
    "           pickle.dump(creds, token)\n",
    "   service = build('calendar', 'v3', credentials=creds)\n",
    "   return service"
   ]
  },
  {
   "cell_type": "code",
   "execution_count": null,
   "id": "d0f7ae67-d496-4ded-9756-420ac469fe33",
   "metadata": {},
   "outputs": [],
   "source": []
  },
  {
   "cell_type": "code",
   "execution_count": null,
   "id": "cb39a830-2c5c-42d3-b415-9f372fa60322",
   "metadata": {},
   "outputs": [],
   "source": []
  },
  {
   "cell_type": "code",
   "execution_count": null,
   "id": "0947fd8c-bf0f-40e5-8469-ca86ea3efc08",
   "metadata": {},
   "outputs": [],
   "source": []
  }
 ],
 "metadata": {
  "kernelspec": {
   "display_name": "Python 3 (ipykernel)",
   "language": "python",
   "name": "python3"
  },
  "language_info": {
   "codemirror_mode": {
    "name": "ipython",
    "version": 3
   },
   "file_extension": ".py",
   "mimetype": "text/x-python",
   "name": "python",
   "nbconvert_exporter": "python",
   "pygments_lexer": "ipython3",
   "version": "3.8.18"
  }
 },
 "nbformat": 4,
 "nbformat_minor": 5
}
