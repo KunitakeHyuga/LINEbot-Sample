{
 "cells": [
  {
   "cell_type": "code",
   "execution_count": 1,
   "id": "eb81c975-b6ef-4b5e-9c76-91893de06e08",
   "metadata": {
    "tags": []
   },
   "outputs": [
    {
     "name": "stdout",
     "output_type": "stream",
     "text": [
      " * Serving Flask app '__main__'\n",
      " * Debug mode: off\n"
     ]
    },
    {
     "name": "stderr",
     "output_type": "stream",
     "text": [
      "WARNING: This is a development server. Do not use it in a production deployment. Use a production WSGI server instead.\n",
      " * Running on http://127.0.0.1:5000\n",
      "Press CTRL+C to quit\n",
      "127.0.0.1 - - [28/Dec/2023 20:24:53] \"GET / HTTP/1.1\" 404 -\n",
      "127.0.0.1 - - [28/Dec/2023 20:24:53] \"GET /favicon.ico HTTP/1.1\" 404 -\n"
     ]
    }
   ],
   "source": [
    "from flask import Flask, request, abort\n",
    "\n",
    "from linebot.v3 import (\n",
    "    WebhookHandler\n",
    ")\n",
    "from linebot.v3.exceptions import (\n",
    "    InvalidSignatureError\n",
    ")\n",
    "from linebot.v3.messaging import (\n",
    "    Configuration,\n",
    "    ApiClient,\n",
    "    MessagingApi,\n",
    "    ReplyMessageRequest,\n",
    "    TextMessage\n",
    ")\n",
    "from linebot.v3.webhooks import (\n",
    "    MessageEvent,\n",
    "    TextMessageContent\n",
    ")\n",
    "\n",
    "app = Flask(__name__)\n",
    "\n",
    "configuration = Configuration(access_token='YOUR_CHANNEL_ACCESS_TOKEN')\n",
    "handler = WebhookHandler('YOUR_CHANNEL_SECRET')\n",
    "\n",
    "\n",
    "@app.route(\"/callback\", methods=['POST'])\n",
    "def callback():\n",
    "    # get X-Line-Signature header value\n",
    "    signature = request.headers['X-Line-Signature']\n",
    "\n",
    "    # get request body as text\n",
    "    body = request.get_data(as_text=True)\n",
    "    app.logger.info(\"Request body: \" + body)\n",
    "\n",
    "    # handle webhook body\n",
    "    try:\n",
    "        handler.handle(body, signature)\n",
    "    except InvalidSignatureError:\n",
    "        app.logger.info(\"Invalid signature. Please check your channel access token/channel secret.\")\n",
    "        abort(400)\n",
    "\n",
    "    return 'OK'\n",
    "\n",
    "\n",
    "@handler.add(MessageEvent, message=TextMessageContent)\n",
    "def handle_message(event):\n",
    "    with ApiClient(configuration) as api_client:\n",
    "        line_bot_api = MessagingApi(api_client)\n",
    "        line_bot_api.reply_message_with_http_info(\n",
    "            ReplyMessageRequest(\n",
    "                reply_token=event.reply_token,\n",
    "                messages=[TextMessage(text=event.message.text)]\n",
    "            )\n",
    "        )\n",
    "\n",
    "if __name__ == \"__main__\":\n",
    "    app.run()"
   ]
  },
  {
   "cell_type": "code",
   "execution_count": 2,
   "id": "96c1e2fb-6f87-47bb-84a9-fd4afb64811c",
   "metadata": {
    "tags": []
   },
   "outputs": [
    {
     "name": "stderr",
     "output_type": "stream",
     "text": [
      "C:\\Users\\hyuga\\AppData\\Local\\Temp\\ipykernel_19056\\2709161609.py:8: LineBotSdkDeprecatedIn30: Call to deprecated class LineBotApi. (Use v3 class; linebot.v3.<feature>. See https://github.com/line/line-bot-sdk-python/blob/master/README.rst for more details.) -- Deprecated since version 3.0.0.\n",
      "  line_bot_api = LineBotApi(CHANNEL_ACCESS_TOKEN, version='v3')  # 'v3'を指定\n"
     ]
    },
    {
     "ename": "TypeError",
     "evalue": "__init__() got an unexpected keyword argument 'version'",
     "output_type": "error",
     "traceback": [
      "\u001b[1;31m---------------------------------------------------------------------------\u001b[0m",
      "\u001b[1;31mTypeError\u001b[0m                                 Traceback (most recent call last)",
      "Cell \u001b[1;32mIn[2], line 8\u001b[0m\n\u001b[0;32m      5\u001b[0m CHANNEL_ACCESS_TOKEN \u001b[38;5;241m=\u001b[39m \u001b[38;5;124m'\u001b[39m\u001b[38;5;124myour_channel_access_token\u001b[39m\u001b[38;5;124m'\u001b[39m\n\u001b[0;32m      7\u001b[0m \u001b[38;5;66;03m# v3クラスを使用\u001b[39;00m\n\u001b[1;32m----> 8\u001b[0m line_bot_api \u001b[38;5;241m=\u001b[39m \u001b[43mLineBotApi\u001b[49m\u001b[43m(\u001b[49m\u001b[43mCHANNEL_ACCESS_TOKEN\u001b[49m\u001b[43m,\u001b[49m\u001b[43m \u001b[49m\u001b[43mversion\u001b[49m\u001b[38;5;241;43m=\u001b[39;49m\u001b[38;5;124;43m'\u001b[39;49m\u001b[38;5;124;43mv3\u001b[39;49m\u001b[38;5;124;43m'\u001b[39;49m\u001b[43m)\u001b[49m  \u001b[38;5;66;03m# 'v3'を指定\u001b[39;00m\n\u001b[0;32m     10\u001b[0m \u001b[38;5;66;03m# 以降のコードもv3クラスを使用した形に修正してください\u001b[39;00m\n\u001b[0;32m     11\u001b[0m message \u001b[38;5;241m=\u001b[39m TextSendMessage(text\u001b[38;5;241m=\u001b[39m\u001b[38;5;124m'\u001b[39m\u001b[38;5;124mHello, World!\u001b[39m\u001b[38;5;124m'\u001b[39m)\n",
      "\u001b[1;31mTypeError\u001b[0m: __init__() got an unexpected keyword argument 'version'"
     ]
    }
   ],
   "source": [
    "from linebot import LineBotApi\n",
    "from linebot.models import TextSendMessage\n",
    "\n",
    "# CHANNEL_ACCESS_TOKEN を設定\n",
    "CHANNEL_ACCESS_TOKEN = 'your_channel_access_token'\n",
    "\n",
    "# v3クラスを使用\n",
    "line_bot_api = LineBotApi(CHANNEL_ACCESS_TOKEN, version='v3')  # 'v3'を指定\n",
    "\n",
    "# 以降のコードもv3クラスを使用した形に修正してください\n",
    "message = TextSendMessage(text='Hello, World!')\n",
    "line_bot_api.push_message('user_id', messages=message)\n"
   ]
  }
 ],
 "metadata": {
  "kernelspec": {
   "display_name": "Python 3 (ipykernel)",
   "language": "python",
   "name": "python3"
  },
  "language_info": {
   "codemirror_mode": {
    "name": "ipython",
    "version": 3
   },
   "file_extension": ".py",
   "mimetype": "text/x-python",
   "name": "python",
   "nbconvert_exporter": "python",
   "pygments_lexer": "ipython3",
   "version": "3.8.18"
  }
 },
 "nbformat": 4,
 "nbformat_minor": 5
}
