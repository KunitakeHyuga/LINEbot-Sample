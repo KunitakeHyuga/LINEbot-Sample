{
 "cells": [
  {
   "cell_type": "code",
   "execution_count": null,
   "id": "efc134e2-f638-45a2-9681-9506d66b7e63",
   "metadata": {},
   "outputs": [],
   "source": []
  },
  {
   "cell_type": "code",
   "execution_count": null,
   "id": "db7b5330-11e2-4f06-9f90-d865a6d6d71a",
   "metadata": {
    "tags": []
   },
   "outputs": [],
   "source": []
  },
  {
   "cell_type": "code",
   "execution_count": 44,
   "id": "e8856dd9-8406-4e48-9f52-3b2041dd6554",
   "metadata": {
    "tags": []
   },
   "outputs": [
    {
     "name": "stdout",
     "output_type": "stream",
     "text": [
      "The response of MessagingApi->push_message status code => 200\n"
     ]
    }
   ],
   "source": [
    "def main():\n",
    "    from linebot.v3.messaging import Configuration, MessagingApi, ApiClient, PushMessageRequest, ApiException\n",
    "\n",
    "\n",
    "configuration = Configuration(\n",
    "    access_token = 'DMg8NmxI9n9UM7d7k21uBYt5cg2bbhrp7diPgN8ZE5hUypMo90HWKDSvHstK7Fy+NjwK+rWY9nXDKTlsSM+ofeck4EggqxcQXlBoMojXKjot/fUM3qv7iJLEpzozMC1/3ud304szgER1ynYXrW3+ygdB04t89/1O/w1cDnyilFU='\n",
    ")\n",
    "\n",
    "message_dict = {\n",
    "    'to': 'U883c49cc92f1e0a1b2de45aefafd3886',\n",
    "    'messages': [\n",
    "        {\n",
    "            'type': 'text',\n",
    "            'text': 'テストメッセージ'\n",
    "        },\n",
    "    ]\n",
    "}\n",
    "\n",
    "with ApiClient(configuration) as api_client:\n",
    "    # Create an instance of the API class\n",
    "    api_instance = MessagingApi(api_client)\n",
    "    push_message_request = PushMessageRequest.from_dict(message_dict)\n",
    "\n",
    "    try:\n",
    "        push_message_result = api_instance.push_message_with_http_info(push_message_request, _return_http_data_only=False)\n",
    "        print(f'The response of MessagingApi->push_message status code => {push_message_result.status_code}')\n",
    "    except ApiException as e:\n",
    "        print('Exception when calling MessagingApi->push_message: %s\\n' % e)\n",
    "        \n",
    "if __name__ == \"__main__\":\n",
    "    main()"
   ]
  }
 ],
 "metadata": {
  "kernelspec": {
   "display_name": "Python 3 (ipykernel)",
   "language": "python",
   "name": "python3"
  },
  "language_info": {
   "codemirror_mode": {
    "name": "ipython",
    "version": 3
   },
   "file_extension": ".py",
   "mimetype": "text/x-python",
   "name": "python",
   "nbconvert_exporter": "python",
   "pygments_lexer": "ipython3",
   "version": "3.8.18"
  }
 },
 "nbformat": 4,
 "nbformat_minor": 5
}
