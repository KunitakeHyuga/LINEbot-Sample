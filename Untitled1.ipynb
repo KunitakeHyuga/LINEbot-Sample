{
 "cells": [
  {
   "cell_type": "code",
   "execution_count": null,
   "id": "a78ef323-64b3-4f52-9d41-87dd3873213b",
   "metadata": {},
   "outputs": [
    {
     "name": "stdout",
     "output_type": "stream",
     "text": [
      " * Serving Flask app '__main__'\n",
      " * Debug mode: off\n"
     ]
    },
    {
     "name": "stderr",
     "output_type": "stream",
     "text": [
      "C:\\Users\\hyuga\\AppData\\Local\\Temp\\ipykernel_6388\\3887802145.py:20: LineBotSdkDeprecatedIn30: Call to deprecated class LineBotApi. (Use v3 class; linebot.v3.<feature>. See https://github.com/line/line-bot-sdk-python/blob/master/README.rst for more details.) -- Deprecated since version 3.0.0.\n",
      "  line_bot_api = LineBotApi(YOUR_CHANNEL_ACCESS_TOKEN)\n",
      "C:\\Users\\hyuga\\AppData\\Local\\Temp\\ipykernel_6388\\3887802145.py:21: LineBotSdkDeprecatedIn30: Call to deprecated class WebhookHandler. (Use 'from linebot.v3.webhook import WebhookHandler' instead. See https://github.com/line/line-bot-sdk-python/blob/master/README.rst for more details.) -- Deprecated since version 3.0.0.\n",
      "  handler = WebhookHandler(YOUR_CHANNEL_SECRET)\n",
      "C:\\Users\\hyuga\\AppData\\Local\\Temp\\ipykernel_6388\\3887802145.py:22: LineBotSdkDeprecatedIn30: Call to deprecated class WebhookParser. (Use 'from linebot.v3.webhook import WebhookParser' instead. See https://github.com/line/line-bot-sdk-python/blob/master/README.rst for more details.) -- Deprecated since version 3.0.0.\n",
      "  parser = WebhookParser(YOUR_CHANNEL_SECRET)\n",
      "WARNING: This is a development server. Do not use it in a production deployment. Use a production WSGI server instead.\n",
      " * Running on all addresses (0.0.0.0)\n",
      " * Running on http://127.0.0.1:5000\n",
      " * Running on http://172.16.31.157:5000\n",
      "Press CTRL+C to quit\n"
     ]
    }
   ],
   "source": [
    "from flask import Flask, request, abort\n",
    "import os\n",
    "from linebot import (\n",
    "    LineBotApi, WebhookHandler, WebhookParser\n",
    ")\n",
    "from linebot.exceptions import (\n",
    "    InvalidSignatureError\n",
    ")\n",
    "from linebot.models import (\n",
    "    MessageEvent, PostbackEvent, TextMessage, TextSendMessage,\n",
    "    QuickReplyButton, QuickReply, PostbackAction, DatetimePickerAction\n",
    ")\n",
    "\n",
    "app = Flask(__name__)\n",
    "\n",
    "# 環境変数取得\n",
    "YOUR_CHANNEL_ACCESS_TOKEN = \"DMg8NmxI9n9UM7d7k21uBYt5cg2bbhrp7diPgN8ZE5hUypMo90HWKDSvHstK7Fy+NjwK+rWY9nXDKTlsSM+ofeck4EggqxcQXlBoMojXKjot/fUM3qv7iJLEpzozMC1/3ud304szgER1ynYXrW3+ygdB04t89/1O/w1cDnyilFU=\"\n",
    "YOUR_CHANNEL_SECRET = \"U883c49cc92f1e0a1b2de45aefafd3886\"\n",
    "\n",
    "line_bot_api = LineBotApi(YOUR_CHANNEL_ACCESS_TOKEN)\n",
    "handler = WebhookHandler(YOUR_CHANNEL_SECRET)\n",
    "parser = WebhookParser(YOUR_CHANNEL_SECRET)\n",
    "\n",
    "@app.route(\"/\")\n",
    "def hello_world():\n",
    "    return \"hello world!\"\n",
    "\n",
    "@app.route(\"/callback\", methods=['POST'])\n",
    "def callback():\n",
    "    signature = request.headers['X-Line-Signature']\n",
    "    body = request.get_data(as_text=True)\n",
    "    app.logger.info(\"Request body: \" + body)\n",
    "    try:\n",
    "        handler.handle(body, signature)\n",
    "    except InvalidSignatureError:\n",
    "        abort(400)\n",
    "    return 'OK'\n",
    "\n",
    "@handler.add(MessageEvent, message=TextMessage)\n",
    "def handle_message(event):\n",
    "    push_text = event.message.text\n",
    "    text = gcapi.extract_words(push_text)\n",
    "    if text is None:\n",
    "        text_message = TextSendMessage(text=\"Googleカレンダーの予定を知りたいですか？それとも追加したいですか？\",\n",
    "                                       quick_reply=QuickReply(items=[\n",
    "                                           QuickReplyButton(action=DatetimePickerAction(\n",
    "                                               label=\"予定を知りたい\", data=\"read\", mode=\"date\")),\n",
    "                                           QuickReplyButton(action=PostbackAction(\n",
    "                                               label=\"予定を追加したい\", data=\"write\"))\n",
    "                                       ]))\n",
    "        line_bot_api.reply_message(event.reply_token, text_message)\n",
    "    else:\n",
    "        htmllink = gcapi.write(*text)\n",
    "        line_bot_api.reply_message(event.reply_token, TextSendMessage(text=htmllink))\n",
    "\n",
    "@handler.add(PostbackEvent)\n",
    "def handle_postback(event):\n",
    "    if event.postback.data == \"read\":\n",
    "        date = event.postback.params['date']\n",
    "        msg = gcapi.read(date)\n",
    "        line_bot_api.reply_message(event.reply_token, TextSendMessage(text=msg))\n",
    "    elif event.postback.data == \"write\":  # 修正した箇所\n",
    "        text_write = \"以下の形式で追加したい予定を入力してください。\"\\\n",
    "                     \"入力形式が正しくない場合、最初のクイックリプライに戻ります。追加に成功した場合はURLが表示されます。\"\\\n",
    "                     \"\\n予定名\\n場所(任意)\\n年月日(半角数字8桁)\\n開始時間(半角数字4桁)\\n終了時間(半角数字4桁)\"\n",
    "        line_bot_api.reply_message(event.reply_token, TextSendMessage(text=text_write))\n",
    "\n",
    "if __name__ == \"__main__\":\n",
    "    port = int(os.getenv(\"PORT\", 5000))  # デフォルトのポートを指定\n",
    "    app.run(host=\"0.0.0.0\", port=port)\n"
   ]
  },
  {
   "cell_type": "code",
   "execution_count": 2,
   "id": "e919b07f-a778-42c3-a107-9b95364d8b16",
   "metadata": {},
   "outputs": [
    {
     "name": "stdout",
     "output_type": "stream",
     "text": [
      "Collecting gunicornNote: you may need to restart the kernel to use updated packages.\n",
      "\n",
      "  Downloading gunicorn-21.2.0-py3-none-any.whl.metadata (4.1 kB)\n",
      "Requirement already satisfied: packaging in c:\\users\\hyuga\\anaconda3\\lib\\site-packages (from gunicorn) (23.1)\n",
      "Downloading gunicorn-21.2.0-py3-none-any.whl (80 kB)\n",
      "   ---------------------------------------- 0.0/80.2 kB ? eta -:--:--\n",
      "   ----- ---------------------------------- 10.2/80.2 kB ? eta -:--:--\n",
      "   ----- ---------------------------------- 10.2/80.2 kB ? eta -:--:--\n",
      "   ------------------------------ --------- 61.4/80.2 kB 550.5 kB/s eta 0:00:01\n",
      "   ------------------------------ --------- 61.4/80.2 kB 550.5 kB/s eta 0:00:01\n",
      "   ---------------------------------------- 80.2/80.2 kB 409.0 kB/s eta 0:00:00\n",
      "Installing collected packages: gunicorn\n",
      "Successfully installed gunicorn-21.2.0\n"
     ]
    }
   ],
   "source": [
    "pip install gunicorn\n"
   ]
  },
  {
   "cell_type": "code",
   "execution_count": null,
   "id": "9643722f-1c27-44f3-affd-626bcad54b2c",
   "metadata": {},
   "outputs": [],
   "source": [
    "gunicorn -b 0.0.0.0:5000 main:app\n"
   ]
  },
  {
   "cell_type": "code",
   "execution_count": null,
   "id": "b808219e-af33-4e39-998f-dbef128b6c66",
   "metadata": {},
   "outputs": [],
   "source": []
  }
 ],
 "metadata": {
  "kernelspec": {
   "display_name": "Python 3 (ipykernel)",
   "language": "python",
   "name": "python3"
  },
  "language_info": {
   "codemirror_mode": {
    "name": "ipython",
    "version": 3
   },
   "file_extension": ".py",
   "mimetype": "text/x-python",
   "name": "python",
   "nbconvert_exporter": "python",
   "pygments_lexer": "ipython3",
   "version": "3.8.18"
  }
 },
 "nbformat": 4,
 "nbformat_minor": 5
}
